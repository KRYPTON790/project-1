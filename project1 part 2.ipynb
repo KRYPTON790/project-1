{
 "cells": [
  {
   "cell_type": "code",
   "execution_count": 100,
   "metadata": {},
   "outputs": [
    {
     "name": "stdout",
     "output_type": "stream",
     "text": [
      "Requirement already satisfied: pandas in /usr/local/lib/python3.6/dist-packages\n",
      "Requirement already satisfied: numpy>=1.9.0 in /usr/lib/python3/dist-packages (from pandas)\n",
      "Requirement already satisfied: python-dateutil>=2.5.0 in /usr/lib/python3/dist-packages (from pandas)\n",
      "Requirement already satisfied: pytz>=2011k in /usr/lib/python3/dist-packages (from pandas)\n",
      "Requirement already satisfied: xlrd in /usr/local/lib/python3.6/dist-packages\n"
     ]
    }
   ],
   "source": [
    "! pip3 install pandas\n",
    "! pip3 install xlrd\n",
    "import pandas as pd \n",
    "import numpy as np\n",
    "import xlrd\n",
    "\n"
   ]
  },
  {
   "cell_type": "code",
   "execution_count": 101,
   "metadata": {},
   "outputs": [],
   "source": [
    "data=pd.read_excel('dataset.xlsx')"
   ]
  },
  {
   "cell_type": "code",
   "execution_count": 102,
   "metadata": {},
   "outputs": [],
   "source": [
    "third_year =data[data['Year'] == '3rd']\n",
    "ME = data[data['Department'] == 'ME']  \n",
    "CE = data[data['Department']=='CE']"
   ]
  },
  {
   "cell_type": "code",
   "execution_count": 103,
   "metadata": {},
   "outputs": [],
   "source": [
    "name = third_year['Name']\n",
    "email = third_year['Year']"
   ]
  },
  {
   "cell_type": "code",
   "execution_count": 104,
   "metadata": {},
   "outputs": [],
   "source": [
    "first = third_year['Name'].str.split()\n",
    "email=third_year['Email'].str.split()"
   ]
  },
  {
   "cell_type": "code",
   "execution_count": 105,
   "metadata": {},
   "outputs": [
    {
     "name": "stdout",
     "output_type": "stream",
     "text": [
      "17\n"
     ]
    }
   ],
   "source": [
    "c=0\n",
    "for index,row in third_year.iterrows():\n",
    "    if(first[index][0].lower() in email[index][0].lower()) or (first[index][1].lower() in email[index][0].lower()):\n",
    "        c+=1"
   ]
  },
  {
   "cell_type": "code",
   "execution_count": 106,
   "metadata": {},
   "outputs": [
    {
     "name": "stdout",
     "output_type": "stream",
     "text": [
      "DrAivex cannot exist in college\n"
     ]
    }
   ],
   "source": [
    "i= third_year['Name'].count()\n",
    "ce = CE['Name'].count()\n",
    "me = ME['Name'].count()\n",
    "total= data['Name'].count()\n",
    "percentCE_ME =((ce+me)/total)*100\n",
    "DrAivex=total-c\n",
    "if (DrAivex >30) and (percentCE_ME>10):\n",
    "    print(\"DrAivex can exist in college\")\n",
    "else:\n",
    "    print(\"DrAivex cannot exist in college\")"
   ]
  }
 ],
 "metadata": {
  "kernelspec": {
   "display_name": "Python 3",
   "language": "python",
   "name": "python3"
  },
  "language_info": {
   "codemirror_mode": {
    "name": "ipython",
    "version": 3
   },
   "file_extension": ".py",
   "mimetype": "text/x-python",
   "name": "python",
   "nbconvert_exporter": "python",
   "pygments_lexer": "ipython3",
   "version": "3.6.6"
  }
 },
 "nbformat": 4,
 "nbformat_minor": 2
}
